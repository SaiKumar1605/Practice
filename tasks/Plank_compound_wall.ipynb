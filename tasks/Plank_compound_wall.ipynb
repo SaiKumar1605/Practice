{
 "cells": [
  {
   "cell_type": "code",
   "execution_count": 25,
   "id": "6c6fb0f6",
   "metadata": {},
   "outputs": [],
   "source": [
    "#Planks with different lengths\n",
    "l = [8,13,7,13,6,13,5,13,4,13]"
   ]
  },
  {
   "cell_type": "code",
   "execution_count": 26,
   "id": "c8821741",
   "metadata": {},
   "outputs": [],
   "source": [
    "#plank which is repeated moore (if any)\n",
    "unique = {}\n",
    "for i in l: \n",
    "    if i in unique.keys():\n",
    "        continue\n",
    "    else:\n",
    "        unique[i] = l.count(i)"
   ]
  },
  {
   "cell_type": "code",
   "execution_count": 27,
   "id": "52532bb7",
   "metadata": {},
   "outputs": [
    {
     "data": {
      "text/plain": [
       "{8: 1, 13: 5, 7: 1, 6: 1, 5: 1, 4: 1}"
      ]
     },
     "execution_count": 27,
     "metadata": {},
     "output_type": "execute_result"
    }
   ],
   "source": [
    "unique"
   ]
  },
  {
   "cell_type": "code",
   "execution_count": 28,
   "id": "9fa076a4",
   "metadata": {},
   "outputs": [
    {
     "data": {
      "text/plain": [
       "13"
      ]
     },
     "execution_count": 28,
     "metadata": {},
     "output_type": "execute_result"
    }
   ],
   "source": [
    "max(unique)"
   ]
  },
  {
   "cell_type": "code",
   "execution_count": 32,
   "id": "f2d0d594",
   "metadata": {},
   "outputs": [],
   "source": [
    "keys = list(unique.keys())"
   ]
  },
  {
   "cell_type": "code",
   "execution_count": 29,
   "id": "7690c00b",
   "metadata": {},
   "outputs": [
    {
     "name": "stdout",
     "output_type": "stream",
     "text": [
      "8\n",
      "13\n",
      "7\n",
      "6\n",
      "5\n",
      "4\n"
     ]
    }
   ],
   "source": [
    "#maximum number of planks with combination of different lengths\n",
    "for i in keys:\n",
    "    "
   ]
  },
  {
   "cell_type": "code",
   "execution_count": 31,
   "id": "d90894c6",
   "metadata": {},
   "outputs": [
    {
     "data": {
      "text/plain": [
       "[8, 13, 7, 6, 5, 4]"
      ]
     },
     "execution_count": 31,
     "metadata": {},
     "output_type": "execute_result"
    }
   ],
   "source": [
    "list(unique.keys())"
   ]
  },
  {
   "cell_type": "code",
   "execution_count": 36,
   "id": "f233c651",
   "metadata": {},
   "outputs": [],
   "source": [
    "keys.remove(4)"
   ]
  },
  {
   "cell_type": "code",
   "execution_count": 39,
   "id": "a99874d7",
   "metadata": {},
   "outputs": [
    {
     "data": {
      "text/plain": [
       "True"
      ]
     },
     "execution_count": 39,
     "metadata": {},
     "output_type": "execute_result"
    }
   ],
   "source": [
    "keys."
   ]
  },
  {
   "cell_type": "code",
   "execution_count": 42,
   "id": "09256361",
   "metadata": {},
   "outputs": [
    {
     "ename": "SyntaxError",
     "evalue": "invalid syntax (1977620529.py, line 2)",
     "output_type": "error",
     "traceback": [
      "\u001b[1;36m  File \u001b[1;32m\"C:\\Users\\Laxmi\\AppData\\Local\\Temp\\ipykernel_9644\\1977620529.py\"\u001b[1;36m, line \u001b[1;32m2\u001b[0m\n\u001b[1;33m    [i for i in keys i!==j]\u001b[0m\n\u001b[1;37m                     ^\u001b[0m\n\u001b[1;31mSyntaxError\u001b[0m\u001b[1;31m:\u001b[0m invalid syntax\n"
     ]
    }
   ],
   "source": []
  },
  {
   "cell_type": "code",
   "execution_count": 21,
   "id": "9c86a2e3",
   "metadata": {},
   "outputs": [
    {
     "data": {
      "text/plain": [
       "(7, 1)"
      ]
     },
     "execution_count": 21,
     "metadata": {},
     "output_type": "execute_result"
    }
   ],
   "source": [
    "l =  [1,1,2,3,3,4]\n",
    "\n",
    "max_length = sum(l[-2:])\n",
    "min_length = l[0]\n",
    "\n",
    "max_length,min_length"
   ]
  },
  {
   "cell_type": "code",
   "execution_count": 23,
   "id": "dc83c125",
   "metadata": {},
   "outputs": [
    {
     "ename": "IndentationError",
     "evalue": "expected an indented block (1681175189.py, line 21)",
     "output_type": "error",
     "traceback": [
      "\u001b[1;36m  File \u001b[1;32m\"C:\\Users\\Laxmi\\AppData\\Local\\Temp\\ipykernel_14868\\1681175189.py\"\u001b[1;36m, line \u001b[1;32m21\u001b[0m\n\u001b[1;33m    \u001b[0m\n\u001b[1;37m    ^\u001b[0m\n\u001b[1;31mIndentationError\u001b[0m\u001b[1;31m:\u001b[0m expected an indented block\n"
     ]
    }
   ],
   "source": [
    "for i in range(min_length,max_length+1):\n",
    "    \n",
    "    temp = l.copy()\n",
    "    count = 0\n",
    "    \n",
    "    for j in l:\n",
    "        \n",
    "        if j == i:\n",
    "            \n",
    "            count = l.count(j)\n",
    "            \n",
    "            while temp.count(j)>0:\n",
    "                \n",
    "                temp.remove(j)\n",
    "        else:\n",
    "            \n",
    "            #print(\"He he\")\n",
    "            \n",
    "            \n",
    "        print(temp)\n",
    "            "
   ]
  },
  {
   "cell_type": "code",
   "execution_count": 18,
   "id": "4b4ac832",
   "metadata": {},
   "outputs": [],
   "source": [
    "l = [1,1,2,3,3,4]"
   ]
  },
  {
   "cell_type": "code",
   "execution_count": 29,
   "id": "16ceb3b2",
   "metadata": {},
   "outputs": [
    {
     "name": "stdout",
     "output_type": "stream",
     "text": [
      "1 count 2\n",
      "[2, 3, 3, 4]\n",
      "2 count 1\n",
      "[1, 1, 3, 3, 4]\n",
      "3 count 2\n",
      "[1, 1, 2, 4]\n",
      "4 count 1\n",
      "[1, 1, 2, 3, 3]\n"
     ]
    }
   ],
   "source": [
    "count_d = {}\n",
    "for i in l:\n",
    "    \n",
    "    if i in count_d:\n",
    "        continue\n",
    "    \n",
    "    temp = l.copy()\n",
    "    count = 0\n",
    "    \n",
    "    if i in temp:\n",
    "        \n",
    "        count = temp.count(i)\n",
    "    \n",
    "    while temp.count(i)>0:\n",
    "        \n",
    "        temp.remove(i)\n",
    "    \n",
    "    \n",
    "    \n",
    "    count_d[i] = count\n",
    "    print(i,\"count\",count)\n",
    "    print(temp)"
   ]
  },
  {
   "cell_type": "code",
   "execution_count": 30,
   "id": "b93e4d39",
   "metadata": {},
   "outputs": [
    {
     "data": {
      "text/plain": [
       "{1: 2, 2: 1, 3: 2, 4: 1}"
      ]
     },
     "execution_count": 30,
     "metadata": {},
     "output_type": "execute_result"
    }
   ],
   "source": [
    "count_d"
   ]
  },
  {
   "cell_type": "code",
   "execution_count": 65,
   "id": "17a81dd0",
   "metadata": {},
   "outputs": [
    {
     "name": "stdout",
     "output_type": "stream",
     "text": [
      "i =  1\n",
      "i =  1\n",
      "i =  2\n",
      "i =  3\n",
      "[1, 1, 2, 3, 4]\n",
      "[1, 1, 2]\n",
      "1\n",
      "i =  4\n",
      "[1, 1, 2]\n",
      "Fina_count =  1\n"
     ]
    }
   ],
   "source": [
    "pl = 7\n",
    "\n",
    "l1 = [1,1,2,3,4]\n",
    "\n",
    "temp = l1.copy()\n",
    "count = 0\n",
    "for i in l1:\n",
    "    print('i = ',i)\n",
    "    \n",
    "    if i in temp:\n",
    "        if i == pl:\n",
    "            count = count + temp.count(i)\n",
    "            while temp.count(i) > 0:\n",
    "                temp.remove(i)\n",
    "            print(temp)\n",
    "            print(count)\n",
    "        if abs(i-pl) in temp:\n",
    "            \n",
    "            if (i == abs(i-pl)) & (temp.count(i)==1):\n",
    "                continue\n",
    "            \n",
    "            if( i > pl):\n",
    "                continue\n",
    "            \n",
    "            print(temp)\n",
    "            count = count+1\n",
    "            temp.remove(i)\n",
    "            temp.remove(abs(i-pl))\n",
    "            print(temp)\n",
    "            print(count)\n",
    "\n",
    "print(temp)\n",
    "print(\"Fina_count = \", count)"
   ]
  },
  {
   "cell_type": "code",
   "execution_count": null,
   "id": "eded8e9b",
   "metadata": {},
   "outputs": [],
   "source": []
  }
 ],
 "metadata": {
  "kernelspec": {
   "display_name": "Python 3 (ipykernel)",
   "language": "python",
   "name": "python3"
  },
  "language_info": {
   "codemirror_mode": {
    "name": "ipython",
    "version": 3
   },
   "file_extension": ".py",
   "mimetype": "text/x-python",
   "name": "python",
   "nbconvert_exporter": "python",
   "pygments_lexer": "ipython3",
   "version": "3.9.13"
  }
 },
 "nbformat": 4,
 "nbformat_minor": 5
}
